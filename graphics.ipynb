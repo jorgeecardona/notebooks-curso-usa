{
 "cells": [
  {
   "cell_type": "code",
   "execution_count": 1,
   "metadata": {},
   "outputs": [],
   "source": [
    "%matplotlib widget\n",
    "\n",
    "from matplotlib import pyplot as plt\n",
    "plt.rcParams['figure.figsize'] = [15, 5]\n",
    "plt.rcParams[\"figure.dpi\"] = 100.0"
   ]
  },
  {
   "cell_type": "code",
   "execution_count": 2,
   "metadata": {},
   "outputs": [],
   "source": [
    "import numpy as np\n",
    "np.random.seed(2020)\n",
    "\n",
    "from scipy.stats import norm"
   ]
  },
  {
   "cell_type": "code",
   "execution_count": 3,
   "metadata": {},
   "outputs": [
    {
     "data": {
      "application/vnd.jupyter.widget-view+json": {
       "model_id": "5fa6a18da99a439a89d4f1dbfadd33a5",
       "version_major": 2,
       "version_minor": 0
      },
      "text/plain": [
       "Canvas(toolbar=Toolbar(toolitems=[('Home', 'Reset original view', 'home', 'home'), ('Back', 'Back to previous …"
      ]
     },
     "metadata": {},
     "output_type": "display_data"
    }
   ],
   "source": [
    "def samples_and_empiric_distribution(m=10):\n",
    "\n",
    "    # Tomar m muestras de la distribucion normal\n",
    "    X = norm.rvs(size=m)\n",
    "\n",
    "    empiric_cdf = lambda x: (sum(np.piecewise(x, [_ < x], [1, 0]) for _ in X)) / m\n",
    "    \n",
    "    return X, empiric_cdf\n",
    "\n",
    "\n",
    "# Dominio de -5 a 5.\n",
    "domain = np.linspace(-5, 5, 315)\n",
    "\n",
    "# Graficar CDF.\n",
    "fig, axs = plt.subplots(2, 3, sharex=True)\n",
    "\n",
    "# GRaficar varias veces para distintos valores de m\n",
    "for m, ax in zip([5, 20, 50, 200, 500, 2000], axs.flatten()):\n",
    "\n",
    "    _, empiric_cdf = samples_and_empiric_distribution(m)\n",
    "    \n",
    "    ax.plot(domain, norm.cdf(domain), label='CDF Gausiana')\n",
    "    \n",
    "    for i in range(5):\n",
    "        _, empiric_cdf = samples_and_empiric_distribution(m)\n",
    "        ax.plot(domain, empiric_cdf(domain), linewidth=0.7)\n",
    "        \n",
    "    ax.set_title(f'm={m}')\n",
    "    \n",
    "    ax.legend()\n",
    "    ax.grid() \n",
    "    \n",
    "plt.savefig('../01-distribucion-empirica.png', bbox_inches='tight', dpi=600)"
   ]
  },
  {
   "cell_type": "code",
   "execution_count": 4,
   "metadata": {},
   "outputs": [
    {
     "data": {
      "application/vnd.jupyter.widget-view+json": {
       "model_id": "e79df7f2723e44a6ab3e09d87c28bc10",
       "version_major": 2,
       "version_minor": 0
      },
      "text/plain": [
       "Canvas(toolbar=Toolbar(toolitems=[('Home', 'Reset original view', 'home', 'home'), ('Back', 'Back to previous …"
      ]
     },
     "metadata": {},
     "output_type": "display_data"
    }
   ],
   "source": [
    "T = np.linspace(-10, 10, 351)\n",
    "y = 1 / (1 + np.exp(-T))\n",
    "\n",
    "fig = plt.figure()\n",
    "\n",
    "plt.plot(T, y)\n",
    "plt.grid()\n",
    "plt.xlabel('t')\n",
    "\n",
    "plt.savefig('../02-funcion-logistica.png', bbox_inches='tight', dpi=600)"
   ]
  },
  {
   "cell_type": "code",
   "execution_count": 5,
   "metadata": {},
   "outputs": [
    {
     "data": {
      "application/vnd.jupyter.widget-view+json": {
       "model_id": "7383a15a1bea4e31904299b6df386b41",
       "version_major": 2,
       "version_minor": 0
      },
      "text/plain": [
       "Canvas(toolbar=Toolbar(toolitems=[('Home', 'Reset original view', 'home', 'home'), ('Back', 'Back to previous …"
      ]
     },
     "metadata": {},
     "output_type": "display_data"
    }
   ],
   "source": [
    "# Graficar CDF.\n",
    "fig, axs = plt.subplots(2, 3, sharex=True)\n",
    "\n",
    "for j in range(3):\n",
    "    x = np.random.normal(size=20)    \n",
    "    \n",
    "    axs[0,j].bar(range(x.size), x)\n",
    "    axs[0,j].set_title('x')\n",
    "    \n",
    "    axs[1,j].bar(range(x.size), np.exp(x) / np.sum(np.exp(x)))\n",
    "    axs[1,j].set_title('softmax(x)')\n",
    "    \n",
    "    for i in range(2):\n",
    "        axs[i,j].grid()\n",
    "    \n",
    "plt.savefig('../03-funcion-softmax.png', bbox_inches='tight', dpi=600)"
   ]
  },
  {
   "cell_type": "code",
   "execution_count": 6,
   "metadata": {},
   "outputs": [
    {
     "data": {
      "text/plain": [
       "(2, 3)"
      ]
     },
     "execution_count": 6,
     "metadata": {},
     "output_type": "execute_result"
    }
   ],
   "source": [
    "axs.shape"
   ]
  },
  {
   "cell_type": "code",
   "execution_count": null,
   "metadata": {},
   "outputs": [],
   "source": []
  }
 ],
 "metadata": {
  "kernelspec": {
   "display_name": "Python 3",
   "language": "python",
   "name": "python3"
  },
  "language_info": {
   "codemirror_mode": {
    "name": "ipython",
    "version": 3
   },
   "file_extension": ".py",
   "mimetype": "text/x-python",
   "name": "python",
   "nbconvert_exporter": "python",
   "pygments_lexer": "ipython3",
   "version": "3.8.5"
  }
 },
 "nbformat": 4,
 "nbformat_minor": 4
}
